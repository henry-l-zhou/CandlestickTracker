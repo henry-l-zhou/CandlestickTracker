{
 "cells": [
  {
   "cell_type": "code",
   "execution_count": 73,
   "metadata": {},
   "outputs": [],
   "source": [
    "import Candlesticks.IdentifyTrend as trend\n",
    "from Candlesticks.Candlestick import Candlestick\n",
    "import requests\n",
    "from datetime import datetime\n",
    "import os\n",
    "import sys\n",
    "\n",
    "import numpy as np\n",
    "import pandas as pd\n",
    "import matplotlib.pyplot as plt\n",
    "from IPython.display import clear_output\n",
    "from six.moves import urllib\n",
    "import tensorflow.compat.v2.feature_column as fc\n",
    "\n",
    "import tensorflow as tf\n",
    "import time"
   ]
  },
  {
   "cell_type": "code",
   "execution_count": 87,
   "metadata": {},
   "outputs": [],
   "source": [
    "x = []\n",
    "y = []\n",
    "for i in range(1532736000, 1595990660, 86400):\n",
    "    \n",
    "    superstring = 'https://finnhub.io/api/v1/crypto/candle?symbol=BINANCE:BTCUSDT&resolution=1&from='+str(i) + '&to='+str(i+86400)+'&token=bseji3frh5rdgbcj0dk0'\n",
    "    try:\n",
    "        candles = requests.get(superstring).json()\n",
    "\n",
    "        if (candles['s'] != 'no_data'):\n",
    "            for i in range(len(candles[\"c\"])-4):\n",
    "                #print (\"Candlestick At Time: \" + datetime.fromtimestamp(candles[\"t\"][i]).strftime('%Y-%m-%d %H:%M:%S')\t) \n",
    "                candlestick1 = Candlestick(candles[\"o\"][i],candles[\"c\"][i],candles[\"l\"][i],candles[\"h\"][i])\n",
    "                candlestick2 = Candlestick(candles[\"o\"][i+1],candles[\"c\"][i+1],candles[\"l\"][i+1],candles[\"h\"][i+1])\n",
    "                candlestick3 = Candlestick(candles[\"o\"][i+2],candles[\"c\"][i+2],candles[\"l\"][i+2],candles[\"h\"][i+2])\n",
    "                #candlestick4 = Candlestick(candles[\"o\"][i+3],candles[\"c\"][i+3],candles[\"l\"][i+3],candles[\"h\"][i+3])\n",
    "                #candlestick5 = Candlestick(candles[\"o\"][i+4],candles[\"c\"][i+4],candles[\"l\"][i+4],candles[\"h\"][i+4])\n",
    "                \"\"\"if (candlestick2 and candlestick3):\n",
    "                    if (trend.isBullishEngulfing(candlestick1,candlestick2)):\n",
    "                        x.append([candlestick1.getProperties() + candlestick2.getProperties()])\n",
    "                        if candles[\"o\"][i+2] > candles[\"c\"][i+2]:\n",
    "                            y.append(1)\n",
    "                        else:\n",
    "                            y.append(0)\"\"\"\n",
    "                if (candlestick4):\n",
    "                    if (trend.isBullishHarami(candlestick1, candlestick2, candlestick3)):\n",
    "                        x.append([candlestick1.getProperties() + candlestick2.getProperties() + candlestick3.getProperties()])\n",
    "                        if candles[\"o\"][i+4] > candles[\"c\"][i+4]:\n",
    "                            y.append(1)\n",
    "                        else:\n",
    "                            y.append(0)\n",
    "    except:\n",
    "        continue\n",
    "    "
   ]
  },
  {
   "cell_type": "code",
   "execution_count": 80,
   "metadata": {},
   "outputs": [],
   "source": [
    "x_df = pd.DataFrame(x)\n",
    "y_df = pd.DataFrame(y)\n",
    "x_df = x_df[0].apply(pd.Series)\n",
    "y_df = y_df[0].apply(pd.Series)\n",
    "x_df = x_df.rename(columns = lambda x : 'tag_' + str(x))\n",
    "y_df = y_df.rename(columns = lambda x : 'tag_' + str(x))\n"
   ]
  },
  {
   "cell_type": "code",
   "execution_count": null,
   "metadata": {},
   "outputs": [],
   "source": []
  },
  {
   "cell_type": "code",
   "execution_count": 81,
   "metadata": {},
   "outputs": [
    {
     "data": {
      "text/plain": [
       "['tag_0', 'tag_1', 'tag_2', 'tag_3', 'tag_4', 'tag_5', 'tag_6', 'tag_7']"
      ]
     },
     "execution_count": 81,
     "metadata": {},
     "output_type": "execute_result"
    }
   ],
   "source": [
    "feature_columns = []\n",
    "NUMERIC_COLUMNS = ['tag_'+str(i) for i in range(8)]\n",
    "for feature_name in NUMERIC_COLUMNS:\n",
    "  feature_columns.append(tf.feature_column.numeric_column(feature_name, dtype=tf.float32))\n",
    "NUMERIC_COLUMNS"
   ]
  },
  {
   "cell_type": "code",
   "execution_count": 82,
   "metadata": {},
   "outputs": [],
   "source": [
    "x_train = x_df.iloc[:x_df.shape[0] *3//4]\n",
    "y_train = y_df.iloc[:y_df.shape[0] *3//4]\n",
    "x_test = x_df.iloc[x_df.shape[0] *3//4:]\n",
    "y_test = y_df.iloc[y_df.shape[0] *3//4:]\n"
   ]
  },
  {
   "cell_type": "code",
   "execution_count": 83,
   "metadata": {},
   "outputs": [],
   "source": [
    "def make_input_fn(data_df, label_df, num_epochs=10, shuffle=True, batch_size=64):\n",
    "  def input_function():\n",
    "    ds = tf.data.Dataset.from_tensor_slices((dict(data_df), label_df))\n",
    "    if shuffle:\n",
    "      ds = ds.shuffle(1000)\n",
    "    ds = ds.batch(batch_size).repeat(num_epochs)\n",
    "    return ds\n",
    "  return input_function\n",
    "\n",
    "train_input_fn = make_input_fn(x_train, y_train)\n",
    "eval_input_fn = make_input_fn(x_test, y_test, num_epochs=100, shuffle=True)"
   ]
  },
  {
   "cell_type": "code",
   "execution_count": 84,
   "metadata": {},
   "outputs": [
    {
     "name": "stderr",
     "output_type": "stream",
     "text": [
      "W0728 22:26:35.616787  6348 estimator.py:1846] Using temporary folder as model directory: C:\\Users\\RYANGU~1\\AppData\\Local\\Temp\\tmpxutv27q5\n",
      "W0728 22:26:35.698382  6348 base_layer_v1.py:1825] Layer linear/linear_model is casting an input tensor from dtype float64 to the layer's dtype of float32, which is new behavior in TensorFlow 2.  The layer has dtype float32 because it's dtype defaults to floatx.\n",
      "\n",
      "If you intended to run this layer in float32, you can safely ignore this warning. If in doubt, this warning is likely only an issue if you are porting a TensorFlow 1.X model to TensorFlow 2.\n",
      "\n",
      "To change all layers to have dtype float64 by default, call `tf.keras.backend.set_floatx('float64')`. To change just this layer, pass dtype='float64' to the layer constructor. If you are the author of this layer, you can disable autocasting by passing autocast=False to the base Layer constructor.\n",
      "\n",
      "W0728 22:26:37.363324  6348 base_layer_v1.py:1825] Layer linear/linear_model is casting an input tensor from dtype float64 to the layer's dtype of float32, which is new behavior in TensorFlow 2.  The layer has dtype float32 because it's dtype defaults to floatx.\n",
      "\n",
      "If you intended to run this layer in float32, you can safely ignore this warning. If in doubt, this warning is likely only an issue if you are porting a TensorFlow 1.X model to TensorFlow 2.\n",
      "\n",
      "To change all layers to have dtype float64 by default, call `tf.keras.backend.set_floatx('float64')`. To change just this layer, pass dtype='float64' to the layer constructor. If you are the author of this layer, you can disable autocasting by passing autocast=False to the base Layer constructor.\n",
      "\n"
     ]
    }
   ],
   "source": [
    "linear_est = tf.estimator.LinearClassifier(feature_columns=feature_columns)\n",
    "linear_est.train(train_input_fn)\n",
    "result = linear_est.evaluate(eval_input_fn)"
   ]
  },
  {
   "cell_type": "code",
   "execution_count": 85,
   "metadata": {},
   "outputs": [
    {
     "data": {
      "text/plain": [
       "{'accuracy': 0.4090909,\n",
       " 'accuracy_baseline': 0.59090906,\n",
       " 'auc': 0.5,\n",
       " 'auc_precision_recall': 0.4090909,\n",
       " 'average_loss': 1266.6488,\n",
       " 'label/mean': 0.4090909,\n",
       " 'loss': 1266.6489,\n",
       " 'precision': 0.4090909,\n",
       " 'prediction/mean': 1.0,\n",
       " 'recall': 1.0,\n",
       " 'global_step': 20}"
      ]
     },
     "execution_count": 85,
     "metadata": {},
     "output_type": "execute_result"
    }
   ],
   "source": [
    "result"
   ]
  },
  {
   "cell_type": "code",
   "execution_count": null,
   "metadata": {},
   "outputs": [],
   "source": []
  }
 ],
 "metadata": {
  "kernelspec": {
   "display_name": "Python 3",
   "language": "python",
   "name": "python3"
  },
  "language_info": {
   "codemirror_mode": {
    "name": "ipython",
    "version": 3
   },
   "file_extension": ".py",
   "mimetype": "text/x-python",
   "name": "python",
   "nbconvert_exporter": "python",
   "pygments_lexer": "ipython3",
   "version": "3.6.8"
  }
 },
 "nbformat": 4,
 "nbformat_minor": 2
}
